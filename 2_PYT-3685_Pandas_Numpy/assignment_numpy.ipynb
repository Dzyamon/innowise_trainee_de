{
 "cells": [
  {
   "cell_type": "markdown",
   "id": "d3df79dd",
   "metadata": {},
   "source": [
    "## Упражнения по библиотеке Numpy"
   ]
  },
  {
   "cell_type": "code",
   "execution_count": 1,
   "id": "76b9c43b",
   "metadata": {},
   "outputs": [],
   "source": [
    "import numpy as np"
   ]
  },
  {
   "cell_type": "markdown",
   "id": "03727b7c",
   "metadata": {},
   "source": [
    "**1.** Дан случайный массив, поменять знак у элементов, значения которых между 3 и 8"
   ]
  },
  {
   "cell_type": "code",
   "execution_count": 2,
   "id": "b89a7523",
   "metadata": {},
   "outputs": [
    {
     "data": {
      "text/plain": [
       "array([4, 1, 6, 6, 6, 8, 9, 9, 3, 7])"
      ]
     },
     "execution_count": 2,
     "metadata": {},
     "output_type": "execute_result"
    }
   ],
   "source": [
    "arr = np.random.randint(1, 10, 10)\n",
    "arr"
   ]
  },
  {
   "cell_type": "code",
   "execution_count": 3,
   "metadata": {
    "collapsed": false
   },
   "outputs": [
    {
     "data": {
      "text/plain": [
       "array([-4,  1, -6, -6, -6,  8,  9,  9,  3, -7])"
      ]
     },
     "execution_count": 3,
     "metadata": {},
     "output_type": "execute_result"
    }
   ],
   "source": [
    "arr1 = np.where((arr > 3) & (arr < 8), -arr, arr)\n",
    "arr1"
   ]
  },
  {
   "cell_type": "markdown",
   "id": "5fa4abda",
   "metadata": {},
   "source": [
    "**2.** Заменить максимальный элемент случайного массива на 0"
   ]
  },
  {
   "cell_type": "code",
   "execution_count": 4,
   "id": "f2788a6e",
   "metadata": {},
   "outputs": [
    {
     "data": {
      "text/plain": [
       "array([4, 1, 6, 6, 6, 8, 0, 0, 3, 7])"
      ]
     },
     "execution_count": 4,
     "metadata": {},
     "output_type": "execute_result"
    }
   ],
   "source": [
    "arr2 = arr\n",
    "arr2[arr2 == arr.max()]=0\n",
    "arr2"
   ]
  },
  {
   "cell_type": "markdown",
   "id": "3cac656b",
   "metadata": {},
   "source": [
    "**3.** Построить прямое произведение массивов (все комбинации с каждым элементом). На вход подается двумерный массив"
   ]
  },
  {
   "cell_type": "code",
   "execution_count": 5,
   "id": "3396b764",
   "metadata": {},
   "outputs": [
    {
     "data": {
      "text/plain": [
       "array([[4, 8, 9, 2],\n",
       "       [3, 6, 1, 7]])"
      ]
     },
     "execution_count": 5,
     "metadata": {},
     "output_type": "execute_result"
    }
   ],
   "source": [
    "arr_a = np.random.choice(range(1,10), size=(2,4), replace=False)\n",
    "arr_a"
   ]
  },
  {
   "cell_type": "code",
   "execution_count": 6,
   "metadata": {
    "collapsed": false
   },
   "outputs": [
    {
     "data": {
      "text/plain": [
       "array([[15, 11],\n",
       "       [16, 17],\n",
       "       [18, 19],\n",
       "       [14, 12]])"
      ]
     },
     "execution_count": 6,
     "metadata": {},
     "output_type": "execute_result"
    }
   ],
   "source": [
    "arr_b = np.random.choice(range(11,20), size=(4,2), replace=False)\n",
    "arr_b"
   ]
  },
  {
   "cell_type": "code",
   "execution_count": 7,
   "metadata": {
    "collapsed": false
   },
   "outputs": [
    {
     "data": {
      "text/plain": [
       "array([[ 4, 15],\n",
       "       [ 4, 11],\n",
       "       [ 4, 16],\n",
       "       [ 4, 17],\n",
       "       [ 4, 18],\n",
       "       [ 4, 19],\n",
       "       [ 4, 14],\n",
       "       [ 4, 12],\n",
       "       [ 8, 15],\n",
       "       [ 8, 11],\n",
       "       [ 8, 16],\n",
       "       [ 8, 17],\n",
       "       [ 8, 18],\n",
       "       [ 8, 19],\n",
       "       [ 8, 14],\n",
       "       [ 8, 12],\n",
       "       [ 9, 15],\n",
       "       [ 9, 11],\n",
       "       [ 9, 16],\n",
       "       [ 9, 17],\n",
       "       [ 9, 18],\n",
       "       [ 9, 19],\n",
       "       [ 9, 14],\n",
       "       [ 9, 12],\n",
       "       [ 2, 15],\n",
       "       [ 2, 11],\n",
       "       [ 2, 16],\n",
       "       [ 2, 17],\n",
       "       [ 2, 18],\n",
       "       [ 2, 19],\n",
       "       [ 2, 14],\n",
       "       [ 2, 12],\n",
       "       [ 3, 15],\n",
       "       [ 3, 11],\n",
       "       [ 3, 16],\n",
       "       [ 3, 17],\n",
       "       [ 3, 18],\n",
       "       [ 3, 19],\n",
       "       [ 3, 14],\n",
       "       [ 3, 12],\n",
       "       [ 6, 15],\n",
       "       [ 6, 11],\n",
       "       [ 6, 16],\n",
       "       [ 6, 17],\n",
       "       [ 6, 18],\n",
       "       [ 6, 19],\n",
       "       [ 6, 14],\n",
       "       [ 6, 12],\n",
       "       [ 1, 15],\n",
       "       [ 1, 11],\n",
       "       [ 1, 16],\n",
       "       [ 1, 17],\n",
       "       [ 1, 18],\n",
       "       [ 1, 19],\n",
       "       [ 1, 14],\n",
       "       [ 1, 12],\n",
       "       [ 7, 15],\n",
       "       [ 7, 11],\n",
       "       [ 7, 16],\n",
       "       [ 7, 17],\n",
       "       [ 7, 18],\n",
       "       [ 7, 19],\n",
       "       [ 7, 14],\n",
       "       [ 7, 12]])"
      ]
     },
     "execution_count": 7,
     "metadata": {},
     "output_type": "execute_result"
    }
   ],
   "source": [
    "combinations = np.array(np.meshgrid(arr_a, arr_b)).T.reshape(-1, 2)\n",
    "combinations"
   ]
  },
  {
   "cell_type": "markdown",
   "id": "674c9354",
   "metadata": {},
   "source": [
    "**4.** Даны 2 массива A (8x3) и B (2x2). Найти строки в A, которые содержат элементы из каждой строки в B, независимо от порядка элементов в B"
   ]
  },
  {
   "cell_type": "code",
   "execution_count": 44,
   "id": "cb664782",
   "metadata": {},
   "outputs": [
    {
     "data": {
      "text/plain": [
       "array([[3, 8, 2],\n",
       "       [6, 7, 3],\n",
       "       [9, 9, 2],\n",
       "       [3, 1, 1],\n",
       "       [7, 6, 1],\n",
       "       [6, 2, 2],\n",
       "       [9, 6, 9],\n",
       "       [6, 5, 7]])"
      ]
     },
     "execution_count": 44,
     "metadata": {},
     "output_type": "execute_result"
    }
   ],
   "source": [
    "arr_A = np.random.choice(range(1,10), size=(8,3), replace=True)\n",
    "arr_A"
   ]
  },
  {
   "cell_type": "code",
   "execution_count": 45,
   "id": "6b53fa67",
   "metadata": {},
   "outputs": [
    {
     "data": {
      "text/plain": [
       "array([[9, 8],\n",
       "       [5, 4]])"
      ]
     },
     "execution_count": 45,
     "metadata": {},
     "output_type": "execute_result"
    }
   ],
   "source": [
    "arr_B = np.random.choice(range(1,10), size=(2,2), replace=False)\n",
    "arr_B"
   ]
  },
  {
   "cell_type": "code",
   "execution_count": 51,
   "id": "f9bcfbd0",
   "metadata": {},
   "outputs": [
    {
     "name": "stdout",
     "output_type": "stream",
     "text": [
      "[3 8 2]\n",
      "[9 9 2]\n",
      "[9 6 9]\n",
      "[6 5 7]\n"
     ]
    }
   ],
   "source": [
    "for row_B in arr_B:\n",
    "    for row_A in arr_A:\n",
    "        B_in_A = np.isin(row_A, row_B)  # at least one element in row B is in row A\n",
    "        # print(B_in_A)\n",
    "        if np.any(B_in_A):\n",
    "            print(row_A)"
   ]
  },
  {
   "cell_type": "markdown",
   "id": "fa46533b",
   "metadata": {},
   "source": [
    "**5.** Дана 10x3 матрица, найти строки из неравных значений (например строка [2,2,3] остается, строка [3,3,3] удаляется)"
   ]
  },
  {
   "cell_type": "code",
   "execution_count": 87,
   "id": "fa545b23",
   "metadata": {},
   "outputs": [],
   "source": [
    "arr_C = np.array([[1, 2, 3],\n",
    "                  [4, 4, 4],\n",
    "                  [5, 6, 6],\n",
    "                  [7, 8, 9],\n",
    "                  [4, 4, 4],\n",
    "                  [7, 7, 7],\n",
    "                  [7, 8, 9],\n",
    "                  [4, 4, 4],\n",
    "                  [1, 2, 3]])"
   ]
  },
  {
   "cell_type": "code",
   "execution_count": 88,
   "id": "390fd428",
   "metadata": {},
   "outputs": [
    {
     "name": "stdout",
     "output_type": "stream",
     "text": [
      "[1 2 3]\n",
      "[5 6 6]\n",
      "[7 8 9]\n",
      "[7 8 9]\n",
      "[1 2 3]\n"
     ]
    }
   ],
   "source": [
    "for row in arr_C:\n",
    "    if len(np.unique(row))>1:\n",
    "        print(row)"
   ]
  },
  {
   "cell_type": "markdown",
   "id": "28f0d116",
   "metadata": {},
   "source": [
    "**6.** Дан двумерный массив. Удалить те строки, которые повторяются"
   ]
  },
  {
   "cell_type": "code",
   "execution_count": 89,
   "id": "af16b9ee",
   "metadata": {},
   "outputs": [],
   "source": [
    "arr_D = np.array([[1, 2, 3],\n",
    "                  [4, 4, 4],\n",
    "                  [5, 6, 6],\n",
    "                  [7, 8, 9],\n",
    "                  [4, 4, 4],\n",
    "                  [1, 2, 3]])"
   ]
  },
  {
   "cell_type": "code",
   "execution_count": 93,
   "id": "83d2c0b7",
   "metadata": {},
   "outputs": [
    {
     "name": "stdout",
     "output_type": "stream",
     "text": [
      "[[1 2 3]\n",
      " [4 4 4]\n",
      " [5 6 6]\n",
      " [7 8 9]]\n",
      "[[5 6 6]\n",
      " [7 8 9]]\n"
     ]
    }
   ],
   "source": [
    "print(np.unique(arr_D, axis=0))\n",
    "\n",
    "#v2 - completely deletes duplicate rows (with initial)\n",
    "_, inverse_indices = np.unique(arr_D, axis=0, return_inverse=True)\n",
    "different_rows = arr_D[np.where(np.bincount(inverse_indices) == 1)]\n",
    "print(different_rows)"
   ]
  },
  {
   "cell_type": "markdown",
   "id": "6daa9e37",
   "metadata": {},
   "source": [
    "______\n",
    "______"
   ]
  },
  {
   "cell_type": "markdown",
   "id": "cfbfcaff",
   "metadata": {},
   "source": [
    "Для каждой из следующих задач (1-5) нужно привести 2 реализации – одна без использования numpy (cчитайте, что там, где на входе или выходе должны быть numpy array, будут просто списки), а вторая полностью векторизованная с использованием numpy (без использования питоновских циклов/map/list comprehension).\n",
    "\n",
    "\n",
    "__Замечание 1.__ Можно считать, что все указанные объекты непустые (к примеру, в __задаче 1__ на диагонали матрицы есть ненулевые элементы).\n",
    "\n",
    "__Замечание 2.__ Для большинства задач решение занимает не больше 1-2 строк."
   ]
  },
  {
   "cell_type": "markdown",
   "id": "673cac7f",
   "metadata": {},
   "source": [
    "___"
   ]
  },
  {
   "cell_type": "markdown",
   "id": "ca6f585e",
   "metadata": {},
   "source": [
    "* __Задача 1__: Подсчитать произведение ненулевых элементов на диагонали прямоугольной матрицы.  \n",
    " Например, для X = np.array([[1, 0, 1], [2, 0, 2], [3, 0, 3], [4, 4, 4]]) ответ 3."
   ]
  },
  {
   "cell_type": "code",
   "execution_count": 108,
   "id": "065862fc",
   "metadata": {},
   "outputs": [
    {
     "name": "stdout",
     "output_type": "stream",
     "text": [
      "3\n",
      "3\n"
     ]
    }
   ],
   "source": [
    "# v1 list\n",
    "arr_lst = [[1, 0, 1], [2, 0, 2], [3, 0, 3], [4, 4, 4]]\n",
    "multiplication = 1\n",
    "counter = 0\n",
    "for row in arr_lst:\n",
    "    if counter == len(row):\n",
    "        break\n",
    "    elif row[counter] != 0:\n",
    "        multiplication *= row[counter]\n",
    "    counter += 1\n",
    "print(multiplication)\n",
    "\n",
    "# v2 numpy\n",
    "arr = np.array([[1, 0, 1], [2, 0, 2], [3, 0, 3], [4, 4, 4]])\n",
    "diagonal_elements = np.diag(arr)\n",
    "# print(diagonal_elements)\n",
    "non_zero_diagonal = diagonal_elements[diagonal_elements != 0]\n",
    "# print(non_zero_diagonal)\n",
    "multiplication_of_diagonal = np.prod(non_zero_diagonal)\n",
    "print(multiplication_of_diagonal)\n"
   ]
  },
  {
   "cell_type": "markdown",
   "id": "9fc51d41",
   "metadata": {},
   "source": [
    "* __Задача 2__: Даны два вектора x и y. Проверить, задают ли они одно и то же мультимножество.  \n",
    "  Например, для x = np.array([1, 2, 2, 4]), y = np.array([4, 2, 1, 2]) ответ True."
   ]
  },
  {
   "cell_type": "code",
   "execution_count": 115,
   "id": "a809e02f",
   "metadata": {},
   "outputs": [
    {
     "name": "stdout",
     "output_type": "stream",
     "text": [
      "False\n",
      "True\n",
      "True\n"
     ]
    }
   ],
   "source": [
    "# v1 list\n",
    "a = [1, 2, 2, 4]\n",
    "b = [4, 2, 1, 2]\n",
    "print(a==b)\n",
    "print(sorted(a) == sorted(b))\n",
    "\n",
    "# v2 numpy\n",
    "x = np.array([1, 2, 2, 4])\n",
    "y = np.array([4, 2, 1, 2])\n",
    "equal = np.array_equal(np.sort(x), np.sort(y)) # np.array_equiv() - compare regardless of arrrays shape\n",
    "print(equal)"
   ]
  },
  {
   "cell_type": "markdown",
   "id": "b9c185c7",
   "metadata": {},
   "source": [
    "* __Задача 3__: Найти максимальный элемент в векторе x среди элементов, перед которыми стоит ноль. \n",
    " Например, для x = np.array([6, 2, 0, 3, 0, 0, 5, 7, 0]) ответ 5."
   ]
  },
  {
   "cell_type": "code",
   "execution_count": 138,
   "id": "b57df008",
   "metadata": {},
   "outputs": [
    {
     "name": "stdout",
     "output_type": "stream",
     "text": [
      "5\n",
      "5\n"
     ]
    }
   ],
   "source": [
    "# v1 list\n",
    "a = [6, 2, 0, 3, 0, 0, 5, 7, 0]\n",
    "b = []\n",
    "for counter in range(len(a)-1):\n",
    "    if a[counter] == 0:\n",
    "        b.append(a[counter+1])\n",
    "print(max(b))\n",
    "\n",
    "# v2 numpy\n",
    "x = np.array([6, 2, 0, 3, 0, 0, 5, 7, 0])\n",
    "zero_idx = np.where(x == 0)[0]      # position of zeros\n",
    "# print(zero_idx)\n",
    "valid_idx = zero_idx[(zero_idx+1) < len(x)]     # valid index of zeros\n",
    "# print(valid_idx)\n",
    "max_element = np.max(x[valid_idx+1])    # elements that are followed by a zero\n",
    "print(max_element)"
   ]
  },
  {
   "cell_type": "markdown",
   "id": "480be4ce",
   "metadata": {},
   "source": [
    "* __Задача 4__: Реализовать кодирование длин серий (Run-length encoding). Для некоторого вектора x необходимо вернуть кортеж из двух векторов одинаковой длины. Первый содержит числа, а второй - сколько раз их нужно повторить.  \n",
    " Например, для x = np.array([2, 2, 2, 3, 3, 3, 5]) ответ (np.array([2, 3, 5]), np.array([3, 3, 1]))."
   ]
  },
  {
   "cell_type": "code",
   "execution_count": 9,
   "id": "3c592124",
   "metadata": {},
   "outputs": [
    {
     "name": "stdout",
     "output_type": "stream",
     "text": [
      "[2, 3, 5] [3, 3, 1]\n",
      "Counter({2: 3, 3: 3, 5: 1})\n",
      "[2 3 5] [3 3 1]\n"
     ]
    }
   ],
   "source": [
    "# v1 list\n",
    "unique_elements = list(set(a))\n",
    "counts = [a.count(element) for element in unique_elements]\n",
    "print(unique_elements, counts)\n",
    "\n",
    "from collections import Counter\n",
    "a = [2, 2, 2, 3, 3, 3, 5]\n",
    "print(Counter(a))\n",
    "\n",
    "# v2 numpy\n",
    "x = np.array([2, 2, 2, 3, 3, 3, 5])\n",
    "unique_values, counts = np.unique(x, return_counts=True)\n",
    "print(unique_values, counts)"
   ]
  },
  {
   "cell_type": "markdown",
   "id": "077532ec",
   "metadata": {},
   "source": [
    "* __Задача 5__: Даны две выборки объектов - X и Y. Вычислить матрицу евклидовых расстояний между объектами. Сравните с функцией scipy.spatial.distance.cdist по скорости работы."
   ]
  },
  {
   "cell_type": "code",
   "execution_count": 29,
   "id": "1e807797",
   "metadata": {},
   "outputs": [
    {
     "name": "stdout",
     "output_type": "stream",
     "text": [
      "[[5.65685425 8.48528137]\n",
      " [2.82842712 5.65685425]]\n",
      "[[5.65685425 8.48528137]\n",
      " [2.82842712 5.65685425]]\n"
     ]
    }
   ],
   "source": [
    "# Euclid distance between 2 coordinates = sqrt((x1 - y1)^2 + (x2 - y2)^2 + ... + (xd - yd)^2)\n",
    "matrix1 = np.array([[1, 2],\n",
    "                    [3, 4]])\n",
    "matrix2 = np.array([[5, 6],\n",
    "                    [7, 8]])\n",
    "diff = matrix1[:, np.newaxis] - matrix2\n",
    "squared_diff = diff ** 2\n",
    "sum_squared_diff = np.sum(squared_diff, axis=2)\n",
    "distance_matrix = np.sqrt(sum_squared_diff)\n",
    "print(distance_matrix)\n",
    "\n",
    "from scipy.spatial.distance import cdist\n",
    "distance_matrix = cdist(matrix1, matrix2, metric='euclidean')\n",
    "print(distance_matrix)"
   ]
  },
  {
   "cell_type": "markdown",
   "id": "973e8064",
   "metadata": {},
   "source": [
    "_______\n",
    "________"
   ]
  },
  {
   "cell_type": "markdown",
   "id": "1104acb7",
   "metadata": {},
   "source": [
    "* #### __Задача 6__: CrunchieMunchies __*__\n",
    "\n",
    "Вы работаете в отделе маркетинга пищевой компании MyCrunch, которая разрабатывает новый вид вкусных, полезных злаков под названием **CrunchieMunchies**.\n",
    "\n",
    "Вы хотите продемонстрировать потребителям, насколько полезны ваши хлопья по сравнению с другими ведущими брендами, поэтому вы собрали данные о питании нескольких разных конкурентов.\n",
    "\n",
    "Ваша задача - использовать вычисления Numpy для анализа этих данных и доказать, что ваши **СrunchieMunchies** - самый здоровый выбор для потребителей.\n"
   ]
  },
  {
   "cell_type": "code",
   "execution_count": 30,
   "id": "10a77f8d",
   "metadata": {},
   "outputs": [],
   "source": [
    "import numpy as np"
   ]
  },
  {
   "cell_type": "markdown",
   "id": "ab87cb03",
   "metadata": {},
   "source": [
    "1. Просмотрите файл cereal.csv. Этот файл содержит количества калорий для различных марок хлопьев. Загрузите данные из файла и сохраните их как calorie_stats."
   ]
  },
  {
   "cell_type": "code",
   "execution_count": 4,
   "id": "9681ebf2",
   "metadata": {},
   "outputs": [
    {
     "data": {
      "text/plain": [
       "array([ 70., 120.,  70.,  50., 110., 110., 110., 130.,  90.,  90., 120.,\n",
       "       110., 120., 110., 110., 110., 100., 110., 110., 110., 100., 110.,\n",
       "       100., 100., 110., 110., 100., 120., 120., 110., 100., 110., 100.,\n",
       "       110., 120., 120., 110., 110., 110., 140., 110., 100., 110., 100.,\n",
       "       150., 150., 160., 100., 120., 140.,  90., 130., 120., 100.,  50.,\n",
       "        50., 100., 100., 120., 100.,  90., 110., 110.,  80.,  90.,  90.,\n",
       "       110., 110.,  90., 110., 140., 100., 110., 110., 100., 100., 110.])"
      ]
     },
     "execution_count": 4,
     "metadata": {},
     "output_type": "execute_result"
    }
   ],
   "source": [
    "calorie_stats = np.loadtxt(\"./input_data/cereal.csv\", delimiter=\",\")\n",
    "calorie_stats"
   ]
  },
  {
   "cell_type": "markdown",
   "id": "139cfbd8",
   "metadata": {},
   "source": [
    "2. В одной порции CrunchieMunchies содержится 60 калорий. Насколько выше среднее количество калорий у ваших конкурентов?\n",
    "\n",
    "Сохраните ответ в переменной average_calories и распечатайте переменную в терминале"
   ]
  },
  {
   "cell_type": "code",
   "execution_count": 35,
   "id": "7036d240",
   "metadata": {},
   "outputs": [
    {
     "data": {
      "text/plain": [
       "46.883116883116884"
      ]
     },
     "execution_count": 35,
     "metadata": {},
     "output_type": "execute_result"
    }
   ],
   "source": [
    "CrunchieMunchies_calories = 60\n",
    "average_calories = np.mean(calorie_stats) - CrunchieMunchies_calories\n",
    "average_calories"
   ]
  },
  {
   "cell_type": "markdown",
   "id": "b2ddb4cd",
   "metadata": {},
   "source": [
    "3. Корректно ли среднее количество калорий отражает распределение набора данных? Давайте отсортируем данные и посмотрим.\n",
    "\n",
    "Отсортируйте данные и сохраните результат в переменной calorie_stats_sorted. Распечатайте отсортированную информацию"
   ]
  },
  {
   "cell_type": "code",
   "execution_count": 36,
   "id": "46eeb4ed",
   "metadata": {},
   "outputs": [
    {
     "data": {
      "text/plain": [
       "array([ 50.,  50.,  50.,  70.,  70.,  80.,  90.,  90.,  90.,  90.,  90.,\n",
       "        90.,  90., 100., 100., 100., 100., 100., 100., 100., 100., 100.,\n",
       "       100., 100., 100., 100., 100., 100., 100., 100., 110., 110., 110.,\n",
       "       110., 110., 110., 110., 110., 110., 110., 110., 110., 110., 110.,\n",
       "       110., 110., 110., 110., 110., 110., 110., 110., 110., 110., 110.,\n",
       "       110., 110., 110., 110., 120., 120., 120., 120., 120., 120., 120.,\n",
       "       120., 120., 120., 130., 130., 140., 140., 140., 150., 150., 160.])"
      ]
     },
     "execution_count": 36,
     "metadata": {},
     "output_type": "execute_result"
    }
   ],
   "source": [
    "calorie_stats_sorted = np.sort(calorie_stats)\n",
    "calorie_stats_sorted"
   ]
  },
  {
   "cell_type": "markdown",
   "id": "4dc74116",
   "metadata": {},
   "source": [
    "4. Похоже, что большинство значений выше среднего. Давайте посмотрим, является ли медиана наиболее корректным показателем набора данных.\n",
    "\n",
    "Вычислите медиану набора данных и сохраните свой ответ в median_calories. Выведите медиану, чтобы вы могли видеть, как она сравнивается со средним значением."
   ]
  },
  {
   "cell_type": "code",
   "execution_count": 39,
   "id": "b56627c3",
   "metadata": {},
   "outputs": [
    {
     "data": {
      "text/plain": [
       "110.0"
      ]
     },
     "execution_count": 39,
     "metadata": {},
     "output_type": "execute_result"
    }
   ],
   "source": [
    "median_calories = np.median(calorie_stats)\n",
    "median_calories"
   ]
  },
  {
   "cell_type": "markdown",
   "id": "a63ab72f",
   "metadata": {},
   "source": [
    "5. В то время как медиана показывает, что по крайней мере половина наших значений составляет более 100 калорий, было бы более впечатляюще показать, что значительная часть конкурентов имеет более высокое количество калорий, чем CrunchieMunchies.\n",
    "\n",
    "Рассчитайте различные процентили и распечатайте их, пока не найдете наименьший процентиль, превышающий 60 калорий. Сохраните это значение в переменной nth_percentile."
   ]
  },
  {
   "cell_type": "code",
   "execution_count": 5,
   "id": "fe80ce03",
   "metadata": {},
   "outputs": [
    {
     "name": "stdout",
     "output_type": "stream",
     "text": [
      "[ 50.   50.   50.   55.6  70.   70.   90.  100.  110.  110.  160. ]\n",
      "70.0\n"
     ]
    }
   ],
   "source": [
    "percentile = np.percentile(calorie_stats, q=[0, 1, 2, 3, 4, 5, 10, 25, 50, 75, 100])\n",
    "print(percentile)\n",
    "nth_percentile = np.percentile(calorie_stats, q=4)\n",
    "print(nth_percentile)\n",
    "# 4th_percentile means that approx. 4% (or 3.28% exactly) of all cereals has <= 60 calories (i.e. CrunchieMunches)"
   ]
  },
  {
   "cell_type": "markdown",
   "id": "a2a3c5aa",
   "metadata": {},
   "source": [
    "6. Хотя процентиль показывает нам, что у большинства конкурентов количество калорий намного выше, это неудобная концепция для использования в маркетинговых материалах.\n",
    "\n",
    "Вместо этого давайте подсчитаем процент хлопьев, в которых содержится более 60 калорий на порцию. Сохраните свой ответ в переменной more_calories и распечатайте его"
   ]
  },
  {
   "cell_type": "code",
   "execution_count": 69,
   "id": "ade0f6ea",
   "metadata": {},
   "outputs": [
    {
     "name": "stdout",
     "output_type": "stream",
     "text": [
      "96.1038961038961\n"
     ]
    }
   ],
   "source": [
    "more_calories = np.mean(calorie_stats > 60)\n",
    "print(more_calories*100)\n",
    "# 96% of all cereals is > 60 calories"
   ]
  },
  {
   "cell_type": "markdown",
   "id": "1735d65b",
   "metadata": {},
   "source": [
    "7. Это действительно высокий процент. Это будет очень полезно, когда мы будем продвигать CrunchieMunchies. Но один вопрос заключается в том, насколько велики различия в наборе данных? Можем ли мы сделать обобщение, что в большинстве злаков содержится около 100 калорий или разброс еще больше?\n",
    "\n",
    "Рассчитайте величину отклонения, найдя стандартное отклонение, Сохраните свой ответ в calorie_std и распечатайте на терминале. Как мы можем включить эту ценность в наш анализ?"
   ]
  },
  {
   "cell_type": "code",
   "execution_count": 70,
   "id": "85c8df1f",
   "metadata": {},
   "outputs": [
    {
     "name": "stdout",
     "output_type": "stream",
     "text": [
      "19.35718533390827\n"
     ]
    }
   ],
   "source": [
    "# std = sqrt( sum((x_i - x_mean)**2 / (n-1) )\n",
    "calorie_std = np.std(calorie_stats)\n",
    "print(calorie_std)"
   ]
  },
  {
   "cell_type": "markdown",
   "id": "037455c5",
   "metadata": {},
   "source": [
    "8. Напишите короткий абзац, в котором кратко изложите свои выводы и то, как, по вашему мнению, эти данные могут быть использованы в интересах Mycrunch при маркетинге CrunchieMunchies."
   ]
  },
  {
   "cell_type": "code",
   "execution_count": 89,
   "id": "c260fee9",
   "metadata": {},
   "outputs": [],
   "source": [
    "# more_calories => более 96% всех калорий у остальных производителей > 60 Ккал\n",
    "# calorie_std => расброс данных небольшой около 20% - следовательно данные равномерно распределенные"
   ]
  }
 ],
 "metadata": {
  "kernelspec": {
   "display_name": "Python 3 (ipykernel)",
   "language": "python",
   "name": "python3"
  },
  "language_info": {
   "codemirror_mode": {
    "name": "ipython",
    "version": 3
   },
   "file_extension": ".py",
   "mimetype": "text/x-python",
   "name": "python",
   "nbconvert_exporter": "python",
   "pygments_lexer": "ipython3",
   "version": "3.11.4"
  }
 },
 "nbformat": 4,
 "nbformat_minor": 5
}
